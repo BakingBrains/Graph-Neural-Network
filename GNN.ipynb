{
  "nbformat": 4,
  "nbformat_minor": 0,
  "metadata": {
    "colab": {
      "name": "GNN.ipynb",
      "provenance": []
    },
    "kernelspec": {
      "name": "python3",
      "display_name": "Python 3"
    },
    "accelerator": "GPU"
  },
  "cells": [
    {
      "cell_type": "code",
      "metadata": {
        "colab": {
          "base_uri": "https://localhost:8080/"
        },
        "id": "9p7kwdbXh-_d",
        "outputId": "20385b88-3867-4069-aa86-3850b2c45fb5"
      },
      "source": [
        "!python -c \"import torch; print(torch.__version__)\"\r\n",
        "!python -c \"import torch; print(torch.version.cuda)\"\r\n",
        "!python --version\r\n",
        "!nvidia-smi"
      ],
      "execution_count": 1,
      "outputs": [
        {
          "output_type": "stream",
          "text": [
            "1.8.0+cu101\n",
            "10.1\n",
            "Python 3.7.10\n",
            "Mon Mar 15 14:00:17 2021       \n",
            "+-----------------------------------------------------------------------------+\n",
            "| NVIDIA-SMI 460.56       Driver Version: 460.32.03    CUDA Version: 11.2     |\n",
            "|-------------------------------+----------------------+----------------------+\n",
            "| GPU  Name        Persistence-M| Bus-Id        Disp.A | Volatile Uncorr. ECC |\n",
            "| Fan  Temp  Perf  Pwr:Usage/Cap|         Memory-Usage | GPU-Util  Compute M. |\n",
            "|                               |                      |               MIG M. |\n",
            "|===============================+======================+======================|\n",
            "|   0  Tesla T4            Off  | 00000000:00:04.0 Off |                    0 |\n",
            "| N/A   63C    P8    12W /  70W |      0MiB / 15109MiB |      0%      Default |\n",
            "|                               |                      |                  N/A |\n",
            "+-------------------------------+----------------------+----------------------+\n",
            "                                                                               \n",
            "+-----------------------------------------------------------------------------+\n",
            "| Processes:                                                                  |\n",
            "|  GPU   GI   CI        PID   Type   Process name                  GPU Memory |\n",
            "|        ID   ID                                                   Usage      |\n",
            "|=============================================================================|\n",
            "|  No running processes found                                                 |\n",
            "+-----------------------------------------------------------------------------+\n"
          ],
          "name": "stdout"
        }
      ]
    },
    {
      "cell_type": "code",
      "metadata": {
        "colab": {
          "base_uri": "https://localhost:8080/"
        },
        "id": "Ad37L69Qi4WG",
        "outputId": "0b6ba8db-f363-4684-dfc6-c0e0857da3b0"
      },
      "source": [
        "#@title\r\n",
        "# Install rdkit\r\n",
        "import sys\r\n",
        "import os\r\n",
        "import requests\r\n",
        "import subprocess\r\n",
        "import shutil\r\n",
        "from logging import getLogger, StreamHandler, INFO\r\n",
        " \r\n",
        " \r\n",
        "logger = getLogger(__name__)\r\n",
        "logger.addHandler(StreamHandler())\r\n",
        "logger.setLevel(INFO)\r\n",
        " \r\n",
        " \r\n",
        "def install(\r\n",
        "        chunk_size=4096,\r\n",
        "        file_name=\"Miniconda3-latest-Linux-x86_64.sh\",\r\n",
        "        url_base=\"https://repo.continuum.io/miniconda/\",\r\n",
        "        conda_path=os.path.expanduser(os.path.join(\"~\", \"miniconda\")),\r\n",
        "        rdkit_version=None,\r\n",
        "        add_python_path=True,\r\n",
        "        force=False):\r\n",
        "    \"\"\"install rdkit from miniconda\r\n",
        "    ```\r\n",
        "    import rdkit_installer\r\n",
        "    rdkit_installer.install()\r\n",
        "    ```\r\n",
        "    \"\"\"\r\n",
        " \r\n",
        "    python_path = os.path.join(\r\n",
        "        conda_path,\r\n",
        "        \"lib\",\r\n",
        "        \"python{0}.{1}\".format(*sys.version_info),\r\n",
        "        \"site-packages\",\r\n",
        "    )\r\n",
        " \r\n",
        "    if add_python_path and python_path not in sys.path:\r\n",
        "        logger.info(\"add {} to PYTHONPATH\".format(python_path))\r\n",
        "        sys.path.append(python_path)\r\n",
        " \r\n",
        "    if os.path.isdir(os.path.join(python_path, \"rdkit\")):\r\n",
        "        logger.info(\"rdkit is already installed\")\r\n",
        "        if not force:\r\n",
        "            return\r\n",
        " \r\n",
        "        logger.info(\"force re-install\")\r\n",
        " \r\n",
        "    url = url_base + file_name\r\n",
        "    python_version = \"{0}.{1}.{2}\".format(*sys.version_info)\r\n",
        " \r\n",
        "    logger.info(\"python version: {}\".format(python_version))\r\n",
        " \r\n",
        "    if os.path.isdir(conda_path):\r\n",
        "        logger.warning(\"remove current miniconda\")\r\n",
        "        shutil.rmtree(conda_path)\r\n",
        "    elif os.path.isfile(conda_path):\r\n",
        "        logger.warning(\"remove {}\".format(conda_path))\r\n",
        "        os.remove(conda_path)\r\n",
        " \r\n",
        "    logger.info('fetching installer from {}'.format(url))\r\n",
        "    res = requests.get(url, stream=True)\r\n",
        "    res.raise_for_status()\r\n",
        "    with open(file_name, 'wb') as f:\r\n",
        "        for chunk in res.iter_content(chunk_size):\r\n",
        "            f.write(chunk)\r\n",
        "    logger.info('done')\r\n",
        " \r\n",
        "    logger.info('installing miniconda to {}'.format(conda_path))\r\n",
        "    subprocess.check_call([\"bash\", file_name, \"-b\", \"-p\", conda_path])\r\n",
        "    logger.info('done')\r\n",
        " \r\n",
        "    logger.info(\"installing rdkit\")\r\n",
        "    subprocess.check_call([\r\n",
        "        os.path.join(conda_path, \"bin\", \"conda\"),\r\n",
        "        \"install\",\r\n",
        "        \"--yes\",\r\n",
        "        \"-c\", \"rdkit\",\r\n",
        "        \"python==3.7.3\",\r\n",
        "        \"rdkit\" if rdkit_version is None else \"rdkit=={}\".format(rdkit_version)])\r\n",
        "    logger.info(\"done\")\r\n",
        " \r\n",
        "    import rdkit\r\n",
        "    logger.info(\"rdkit-{} installation finished!\".format(rdkit.__version__))\r\n",
        " \r\n",
        " \r\n",
        "if __name__ == \"__main__\":\r\n",
        "    install()"
      ],
      "execution_count": 2,
      "outputs": [
        {
          "output_type": "stream",
          "text": [
            "add /root/miniconda/lib/python3.7/site-packages to PYTHONPATH\n",
            "python version: 3.7.10\n",
            "fetching installer from https://repo.continuum.io/miniconda/Miniconda3-latest-Linux-x86_64.sh\n",
            "done\n",
            "installing miniconda to /root/miniconda\n",
            "done\n",
            "installing rdkit\n",
            "done\n",
            "rdkit-2020.09.1 installation finished!\n"
          ],
          "name": "stderr"
        }
      ]
    },
    {
      "cell_type": "code",
      "metadata": {
        "colab": {
          "base_uri": "https://localhost:8080/"
        },
        "id": "HsmXCKQajFxH",
        "outputId": "2667c733-6aad-48ff-e48f-4671ee371b7c"
      },
      "source": [
        "import torch\r\n",
        "pytorch_version = \"torch-\" + torch.__version__ + \".html\"\r\n",
        "!pip install --no-index torch-scatter -f https://pytorch-geometric.com/whl/$pytorch_version\r\n",
        "!pip install --no-index torch-sparse -f https://pytorch-geometric.com/whl/$pytorch_version\r\n",
        "!pip install --no-index torch-cluster -f https://pytorch-geometric.com/whl/$pytorch_version\r\n",
        "!pip install --no-index torch-spline-conv -f https://pytorch-geometric.com/whl/$pytorch_version\r\n",
        "!pip install torch-geometric"
      ],
      "execution_count": 3,
      "outputs": [
        {
          "output_type": "stream",
          "text": [
            "Looking in links: https://pytorch-geometric.com/whl/torch-1.8.0+cu101.html\n",
            "Collecting torch-scatter\n",
            "\u001b[?25l  Downloading https://pytorch-geometric.com/whl/torch-1.8.0%2Bcu101/torch_scatter-2.0.6-cp37-cp37m-linux_x86_64.whl (2.5MB)\n",
            "\u001b[K     |████████████████████████████████| 2.6MB 5.9MB/s \n",
            "\u001b[?25hInstalling collected packages: torch-scatter\n",
            "Successfully installed torch-scatter-2.0.6\n",
            "Looking in links: https://pytorch-geometric.com/whl/torch-1.8.0+cu101.html\n",
            "Collecting torch-sparse\n",
            "\u001b[?25l  Downloading https://pytorch-geometric.com/whl/torch-1.8.0%2Bcu101/torch_sparse-0.6.9-cp37-cp37m-linux_x86_64.whl (1.5MB)\n",
            "\u001b[K     |████████████████████████████████| 1.5MB 6.8MB/s \n",
            "\u001b[?25hRequirement already satisfied: scipy in /usr/local/lib/python3.7/dist-packages (from torch-sparse) (1.4.1)\n",
            "Requirement already satisfied: numpy>=1.13.3 in /usr/local/lib/python3.7/dist-packages (from scipy->torch-sparse) (1.19.5)\n",
            "Installing collected packages: torch-sparse\n",
            "Successfully installed torch-sparse-0.6.9\n",
            "Looking in links: https://pytorch-geometric.com/whl/torch-1.8.0+cu101.html\n",
            "Collecting torch-cluster\n",
            "\u001b[?25l  Downloading https://pytorch-geometric.com/whl/torch-1.8.0%2Bcu101/torch_cluster-1.5.9-cp37-cp37m-linux_x86_64.whl (1.0MB)\n",
            "\u001b[K     |████████████████████████████████| 1.0MB 7.2MB/s \n",
            "\u001b[?25hInstalling collected packages: torch-cluster\n",
            "Successfully installed torch-cluster-1.5.9\n",
            "Looking in links: https://pytorch-geometric.com/whl/torch-1.8.0+cu101.html\n",
            "Collecting torch-spline-conv\n",
            "\u001b[?25l  Downloading https://pytorch-geometric.com/whl/torch-1.8.0%2Bcu101/torch_spline_conv-1.2.1-cp37-cp37m-linux_x86_64.whl (386kB)\n",
            "\u001b[K     |████████████████████████████████| 389kB 7.0MB/s \n",
            "\u001b[?25hInstalling collected packages: torch-spline-conv\n",
            "Successfully installed torch-spline-conv-1.2.1\n",
            "Collecting torch-geometric\n",
            "\u001b[?25l  Downloading https://files.pythonhosted.org/packages/59/5c/3e95b76321fb14f24cc2ace392075717f645c4632e796ee0db1bc7d17231/torch_geometric-1.6.3.tar.gz (186kB)\n",
            "\u001b[K     |████████████████████████████████| 194kB 8.5MB/s \n",
            "\u001b[?25hRequirement already satisfied: torch in /usr/local/lib/python3.7/dist-packages (from torch-geometric) (1.8.0+cu101)\n",
            "Requirement already satisfied: numpy in /usr/local/lib/python3.7/dist-packages (from torch-geometric) (1.19.5)\n",
            "Requirement already satisfied: tqdm in /usr/local/lib/python3.7/dist-packages (from torch-geometric) (4.41.1)\n",
            "Requirement already satisfied: scipy in /usr/local/lib/python3.7/dist-packages (from torch-geometric) (1.4.1)\n",
            "Requirement already satisfied: networkx in /usr/local/lib/python3.7/dist-packages (from torch-geometric) (2.5)\n",
            "Requirement already satisfied: python-louvain in /usr/local/lib/python3.7/dist-packages (from torch-geometric) (0.15)\n",
            "Requirement already satisfied: scikit-learn in /usr/local/lib/python3.7/dist-packages (from torch-geometric) (0.22.2.post1)\n",
            "Requirement already satisfied: numba in /usr/local/lib/python3.7/dist-packages (from torch-geometric) (0.51.2)\n",
            "Requirement already satisfied: requests in /usr/local/lib/python3.7/dist-packages (from torch-geometric) (2.23.0)\n",
            "Requirement already satisfied: pandas in /usr/local/lib/python3.7/dist-packages (from torch-geometric) (1.1.5)\n",
            "Collecting rdflib\n",
            "\u001b[?25l  Downloading https://files.pythonhosted.org/packages/d0/6b/6454aa1db753c0f8bc265a5bd5c10b5721a4bb24160fb4faf758cf6be8a1/rdflib-5.0.0-py3-none-any.whl (231kB)\n",
            "\u001b[K     |████████████████████████████████| 235kB 27.3MB/s \n",
            "\u001b[?25hRequirement already satisfied: h5py in /usr/local/lib/python3.7/dist-packages (from torch-geometric) (2.10.0)\n",
            "Requirement already satisfied: googledrivedownloader in /usr/local/lib/python3.7/dist-packages (from torch-geometric) (0.4)\n",
            "Collecting ase\n",
            "\u001b[?25l  Downloading https://files.pythonhosted.org/packages/a5/36/de17e79f29e06d9a92746d0dd9ec4636487ab03f6af10e78586aae533f7a/ase-3.21.1-py3-none-any.whl (2.2MB)\n",
            "\u001b[K     |████████████████████████████████| 2.2MB 15.7MB/s \n",
            "\u001b[?25hRequirement already satisfied: jinja2 in /usr/local/lib/python3.7/dist-packages (from torch-geometric) (2.11.3)\n",
            "Requirement already satisfied: typing-extensions in /usr/local/lib/python3.7/dist-packages (from torch->torch-geometric) (3.7.4.3)\n",
            "Requirement already satisfied: decorator>=4.3.0 in /usr/local/lib/python3.7/dist-packages (from networkx->torch-geometric) (4.4.2)\n",
            "Requirement already satisfied: joblib>=0.11 in /usr/local/lib/python3.7/dist-packages (from scikit-learn->torch-geometric) (1.0.1)\n",
            "Requirement already satisfied: setuptools in /usr/local/lib/python3.7/dist-packages (from numba->torch-geometric) (54.0.0)\n",
            "Requirement already satisfied: llvmlite<0.35,>=0.34.0.dev0 in /usr/local/lib/python3.7/dist-packages (from numba->torch-geometric) (0.34.0)\n",
            "Requirement already satisfied: certifi>=2017.4.17 in /usr/local/lib/python3.7/dist-packages (from requests->torch-geometric) (2020.12.5)\n",
            "Requirement already satisfied: urllib3!=1.25.0,!=1.25.1,<1.26,>=1.21.1 in /usr/local/lib/python3.7/dist-packages (from requests->torch-geometric) (1.24.3)\n",
            "Requirement already satisfied: idna<3,>=2.5 in /usr/local/lib/python3.7/dist-packages (from requests->torch-geometric) (2.10)\n",
            "Requirement already satisfied: chardet<4,>=3.0.2 in /usr/local/lib/python3.7/dist-packages (from requests->torch-geometric) (3.0.4)\n",
            "Requirement already satisfied: pytz>=2017.2 in /usr/local/lib/python3.7/dist-packages (from pandas->torch-geometric) (2018.9)\n",
            "Requirement already satisfied: python-dateutil>=2.7.3 in /usr/local/lib/python3.7/dist-packages (from pandas->torch-geometric) (2.8.1)\n",
            "Collecting isodate\n",
            "\u001b[?25l  Downloading https://files.pythonhosted.org/packages/9b/9f/b36f7774ff5ea8e428fdcfc4bb332c39ee5b9362ddd3d40d9516a55221b2/isodate-0.6.0-py2.py3-none-any.whl (45kB)\n",
            "\u001b[K     |████████████████████████████████| 51kB 8.2MB/s \n",
            "\u001b[?25hRequirement already satisfied: six in /usr/local/lib/python3.7/dist-packages (from rdflib->torch-geometric) (1.15.0)\n",
            "Requirement already satisfied: pyparsing in /usr/local/lib/python3.7/dist-packages (from rdflib->torch-geometric) (2.4.7)\n",
            "Requirement already satisfied: matplotlib>=2.0.0 in /usr/local/lib/python3.7/dist-packages (from ase->torch-geometric) (3.2.2)\n",
            "Requirement already satisfied: MarkupSafe>=0.23 in /usr/local/lib/python3.7/dist-packages (from jinja2->torch-geometric) (1.1.1)\n",
            "Requirement already satisfied: kiwisolver>=1.0.1 in /usr/local/lib/python3.7/dist-packages (from matplotlib>=2.0.0->ase->torch-geometric) (1.3.1)\n",
            "Requirement already satisfied: cycler>=0.10 in /usr/local/lib/python3.7/dist-packages (from matplotlib>=2.0.0->ase->torch-geometric) (0.10.0)\n",
            "Building wheels for collected packages: torch-geometric\n",
            "  Building wheel for torch-geometric (setup.py) ... \u001b[?25l\u001b[?25hdone\n",
            "  Created wheel for torch-geometric: filename=torch_geometric-1.6.3-cp37-none-any.whl size=322719 sha256=e2c4159c80399bbeb1390cd5a08f4cbbc78931c7d89d40465124e414fdec5b1a\n",
            "  Stored in directory: /root/.cache/pip/wheels/6d/47/1e/0af8ce3e21783c3e584c22502011a3367c091694eebc50a971\n",
            "Successfully built torch-geometric\n",
            "Installing collected packages: isodate, rdflib, ase, torch-geometric\n",
            "Successfully installed ase-3.21.1 isodate-0.6.0 rdflib-5.0.0 torch-geometric-1.6.3\n"
          ],
          "name": "stdout"
        }
      ]
    },
    {
      "cell_type": "code",
      "metadata": {
        "id": "PvqY1Y_OjnE3"
      },
      "source": [
        "import rdkit\r\n",
        "from torch_geometric.datasets import MoleculeNet"
      ],
      "execution_count": 7,
      "outputs": []
    },
    {
      "cell_type": "code",
      "metadata": {
        "colab": {
          "base_uri": "https://localhost:8080/"
        },
        "id": "z5NtLLfSkOBh",
        "outputId": "a95c6533-ca02-4774-b3d0-73a4e86b1ad1"
      },
      "source": [
        "# Load the ESOL dataset\r\n",
        "data = MoleculeNet(root=\".\", name=\"ESOL\")\r\n",
        "data"
      ],
      "execution_count": 8,
      "outputs": [
        {
          "output_type": "execute_result",
          "data": {
            "text/plain": [
              "ESOL(1128)"
            ]
          },
          "metadata": {
            "tags": []
          },
          "execution_count": 8
        }
      ]
    },
    {
      "cell_type": "code",
      "metadata": {
        "colab": {
          "base_uri": "https://localhost:8080/"
        },
        "id": "oqMxFnNDml-3",
        "outputId": "0158840a-03ca-4ded-a0bc-3d991b0b8c55"
      },
      "source": [
        "print(\"Dataset type: \", type(data))\r\n",
        "print(\"Dataset features: \", data.num_features)\r\n",
        "print(\"Dataset target: \", data.num_classes)\r\n",
        "print(\"Dataset length: \", data.len)\r\n",
        "print(\"Dataset sample: \", data[0])\r\n",
        "print(\"Sample  nodes: \", data[0].num_nodes)\r\n",
        "print(\"Sample  edges: \", data[0].num_edges)\r\n",
        "\r\n",
        "# edge_index = graph connections\r\n",
        "# smiles = molecule with its atoms\r\n",
        "# x = node features (32 nodes have each 9 features)\r\n",
        "# y = labels (dimension)"
      ],
      "execution_count": 10,
      "outputs": [
        {
          "output_type": "stream",
          "text": [
            "Dataset type:  <class 'torch_geometric.datasets.molecule_net.MoleculeNet'>\n",
            "Dataset features:  9\n",
            "Dataset target:  1\n",
            "Dataset length:  <bound method InMemoryDataset.len of ESOL(1128)>\n",
            "Dataset sample:  Data(edge_attr=[68, 3], edge_index=[2, 68], smiles=\"OCC3OC(OCC2OC(OC(C#N)c1ccccc1)C(O)C(O)C2O)C(O)C(O)C3O \", x=[32, 9], y=[1, 1])\n",
            "Sample  nodes:  32\n",
            "Sample  edges:  68\n"
          ],
          "name": "stdout"
        }
      ]
    },
    {
      "cell_type": "code",
      "metadata": {
        "colab": {
          "base_uri": "https://localhost:8080/"
        },
        "id": "31vJxdirmpQ6",
        "outputId": "17480610-c03f-4152-8268-fe8ac68dab5e"
      },
      "source": [
        "# Shape: [num_nodes, num_node_features]\r\n",
        "data[0].x"
      ],
      "execution_count": 11,
      "outputs": [
        {
          "output_type": "execute_result",
          "data": {
            "text/plain": [
              "tensor([[8, 0, 2, 5, 1, 0, 4, 0, 0],\n",
              "        [6, 0, 4, 5, 2, 0, 4, 0, 0],\n",
              "        [6, 0, 4, 5, 1, 0, 4, 0, 1],\n",
              "        [8, 0, 2, 5, 0, 0, 4, 0, 1],\n",
              "        [6, 0, 4, 5, 1, 0, 4, 0, 1],\n",
              "        [8, 0, 2, 5, 0, 0, 4, 0, 0],\n",
              "        [6, 0, 4, 5, 2, 0, 4, 0, 0],\n",
              "        [6, 0, 4, 5, 1, 0, 4, 0, 1],\n",
              "        [8, 0, 2, 5, 0, 0, 4, 0, 1],\n",
              "        [6, 0, 4, 5, 1, 0, 4, 0, 1],\n",
              "        [8, 0, 2, 5, 0, 0, 4, 0, 0],\n",
              "        [6, 0, 4, 5, 1, 0, 4, 0, 0],\n",
              "        [6, 0, 2, 5, 0, 0, 2, 0, 0],\n",
              "        [7, 0, 1, 5, 0, 0, 2, 0, 0],\n",
              "        [6, 0, 3, 5, 0, 0, 3, 1, 1],\n",
              "        [6, 0, 3, 5, 1, 0, 3, 1, 1],\n",
              "        [6, 0, 3, 5, 1, 0, 3, 1, 1],\n",
              "        [6, 0, 3, 5, 1, 0, 3, 1, 1],\n",
              "        [6, 0, 3, 5, 1, 0, 3, 1, 1],\n",
              "        [6, 0, 3, 5, 1, 0, 3, 1, 1],\n",
              "        [6, 0, 4, 5, 1, 0, 4, 0, 1],\n",
              "        [8, 0, 2, 5, 1, 0, 4, 0, 0],\n",
              "        [6, 0, 4, 5, 1, 0, 4, 0, 1],\n",
              "        [8, 0, 2, 5, 1, 0, 4, 0, 0],\n",
              "        [6, 0, 4, 5, 1, 0, 4, 0, 1],\n",
              "        [8, 0, 2, 5, 1, 0, 4, 0, 0],\n",
              "        [6, 0, 4, 5, 1, 0, 4, 0, 1],\n",
              "        [8, 0, 2, 5, 1, 0, 4, 0, 0],\n",
              "        [6, 0, 4, 5, 1, 0, 4, 0, 1],\n",
              "        [8, 0, 2, 5, 1, 0, 4, 0, 0],\n",
              "        [6, 0, 4, 5, 1, 0, 4, 0, 1],\n",
              "        [8, 0, 2, 5, 1, 0, 4, 0, 0]])"
            ]
          },
          "metadata": {
            "tags": []
          },
          "execution_count": 11
        }
      ]
    },
    {
      "cell_type": "code",
      "metadata": {
        "colab": {
          "base_uri": "https://localhost:8080/"
        },
        "id": "k_Tv0AYdmr5d",
        "outputId": "eb9b6680-c940-4a1d-9f69-fa42a3993064"
      },
      "source": [
        "# Shape [2, num_edges]\r\n",
        "data[0].edge_index.t()"
      ],
      "execution_count": 12,
      "outputs": [
        {
          "output_type": "execute_result",
          "data": {
            "text/plain": [
              "tensor([[ 0,  1],\n",
              "        [ 1,  0],\n",
              "        [ 1,  2],\n",
              "        [ 2,  1],\n",
              "        [ 2,  3],\n",
              "        [ 2, 30],\n",
              "        [ 3,  2],\n",
              "        [ 3,  4],\n",
              "        [ 4,  3],\n",
              "        [ 4,  5],\n",
              "        [ 4, 26],\n",
              "        [ 5,  4],\n",
              "        [ 5,  6],\n",
              "        [ 6,  5],\n",
              "        [ 6,  7],\n",
              "        [ 7,  6],\n",
              "        [ 7,  8],\n",
              "        [ 7, 24],\n",
              "        [ 8,  7],\n",
              "        [ 8,  9],\n",
              "        [ 9,  8],\n",
              "        [ 9, 10],\n",
              "        [ 9, 20],\n",
              "        [10,  9],\n",
              "        [10, 11],\n",
              "        [11, 10],\n",
              "        [11, 12],\n",
              "        [11, 14],\n",
              "        [12, 11],\n",
              "        [12, 13],\n",
              "        [13, 12],\n",
              "        [14, 11],\n",
              "        [14, 15],\n",
              "        [14, 19],\n",
              "        [15, 14],\n",
              "        [15, 16],\n",
              "        [16, 15],\n",
              "        [16, 17],\n",
              "        [17, 16],\n",
              "        [17, 18],\n",
              "        [18, 17],\n",
              "        [18, 19],\n",
              "        [19, 14],\n",
              "        [19, 18],\n",
              "        [20,  9],\n",
              "        [20, 21],\n",
              "        [20, 22],\n",
              "        [21, 20],\n",
              "        [22, 20],\n",
              "        [22, 23],\n",
              "        [22, 24],\n",
              "        [23, 22],\n",
              "        [24,  7],\n",
              "        [24, 22],\n",
              "        [24, 25],\n",
              "        [25, 24],\n",
              "        [26,  4],\n",
              "        [26, 27],\n",
              "        [26, 28],\n",
              "        [27, 26],\n",
              "        [28, 26],\n",
              "        [28, 29],\n",
              "        [28, 30],\n",
              "        [29, 28],\n",
              "        [30,  2],\n",
              "        [30, 28],\n",
              "        [30, 31],\n",
              "        [31, 30]])"
            ]
          },
          "metadata": {
            "tags": []
          },
          "execution_count": 12
        }
      ]
    },
    {
      "cell_type": "code",
      "metadata": {
        "colab": {
          "base_uri": "https://localhost:8080/"
        },
        "id": "sMtHciI_mx_M",
        "outputId": "2bd61bf1-e870-49bd-d862-310c9ef2cc15"
      },
      "source": [
        "data[0].y"
      ],
      "execution_count": 13,
      "outputs": [
        {
          "output_type": "execute_result",
          "data": {
            "text/plain": [
              "tensor([[-0.7700]])"
            ]
          },
          "metadata": {
            "tags": []
          },
          "execution_count": 13
        }
      ]
    },
    {
      "cell_type": "code",
      "metadata": {
        "colab": {
          "base_uri": "https://localhost:8080/",
          "height": 35
        },
        "id": "yoCPkwDOnAd4",
        "outputId": "d2f94f57-d60d-4e2a-bb44-af67553811f9"
      },
      "source": [
        "#convert smiles to rdkit molecule\r\n",
        "data[10][\"smiles\"]"
      ],
      "execution_count": 18,
      "outputs": [
        {
          "output_type": "execute_result",
          "data": {
            "application/vnd.google.colaboratory.intrinsic+json": {
              "type": "string"
            },
            "text/plain": [
              "'O=C1CCCN1'"
            ]
          },
          "metadata": {
            "tags": []
          },
          "execution_count": 18
        }
      ]
    },
    {
      "cell_type": "code",
      "metadata": {
        "id": "vetcRuwznEHM"
      },
      "source": [
        "from rdkit import Chem\r\n",
        "from rdkit.Chem.Draw import IPythonConsole"
      ],
      "execution_count": 19,
      "outputs": []
    },
    {
      "cell_type": "code",
      "metadata": {
        "colab": {
          "base_uri": "https://localhost:8080/",
          "height": 167
        },
        "id": "vbNX62vlnJV3",
        "outputId": "2911a6f9-2397-47ce-f7ff-247f96f5a752"
      },
      "source": [
        "molecule = Chem.MolFromSmiles(data[10][\"smiles\"])\r\n",
        "molecule"
      ],
      "execution_count": 20,
      "outputs": [
        {
          "output_type": "execute_result",
          "data": {
            "image/png": "[encoded data removed]",
            "text/plain": [
              "<rdkit.Chem.rdchem.Mol at 0x7f947464cb20>"
            ]
          },
          "metadata": {
            "tags": []
          },
          "execution_count": 20
        }
      ]
    },
    {
      "cell_type": "code",
      "metadata": {
        "colab": {
          "base_uri": "https://localhost:8080/"
        },
        "id": "WuvpJuzoq4KJ",
        "outputId": "c599d0e1-c640-4802-97b5-76a8855b45e4"
      },
      "source": [
        "type(molecule)"
      ],
      "execution_count": 22,
      "outputs": [
        {
          "output_type": "execute_result",
          "data": {
            "text/plain": [
              "rdkit.Chem.rdchem.Mol"
            ]
          },
          "metadata": {
            "tags": []
          },
          "execution_count": 22
        }
      ]
    },
    {
      "cell_type": "code",
      "metadata": {
        "id": "Dbugkmhcq7Ty"
      },
      "source": [
        "import torch\r\n",
        "from torch.nn import Linear\r\n",
        "import torch.nn.functional as F \r\n",
        "from torch_geometric.nn import GCNConv, TopKPooling, global_mean_pool\r\n",
        "from torch_geometric.nn import global_mean_pool as gap, global_max_pool as gmp\r\n",
        "embedding_size = 64"
      ],
      "execution_count": 23,
      "outputs": []
    },
    {
      "cell_type": "code",
      "metadata": {
        "id": "vs3gUmnmq7ZF"
      },
      "source": [
        "class GCN(torch.nn.Module):\r\n",
        "    def __init__(self):\r\n",
        "        # Init parent\r\n",
        "        super(GCN, self).__init__()\r\n",
        "        torch.manual_seed(42)\r\n",
        "\r\n",
        "        # GCN layers\r\n",
        "        self.initial_conv = GCNConv(data.num_features, embedding_size)\r\n",
        "        self.conv1 = GCNConv(embedding_size, embedding_size)\r\n",
        "        self.conv2 = GCNConv(embedding_size, embedding_size)\r\n",
        "        self.conv3 = GCNConv(embedding_size, embedding_size)\r\n",
        "\r\n",
        "        # Output layer\r\n",
        "        self.out = Linear(embedding_size*2, data.num_classes)\r\n",
        "\r\n",
        "    def forward(self, x, edge_index, batch_index):\r\n",
        "        # First Conv layer\r\n",
        "        hidden = self.initial_conv(x, edge_index)\r\n",
        "        hidden = F.tanh(hidden)\r\n",
        "\r\n",
        "        # Other Conv layers\r\n",
        "        hidden = self.conv1(hidden, edge_index)\r\n",
        "        hidden = F.tanh(hidden)\r\n",
        "        hidden = self.conv2(hidden, edge_index)\r\n",
        "        hidden = F.tanh(hidden)\r\n",
        "        hidden = self.conv3(hidden, edge_index)\r\n",
        "        hidden = F.tanh(hidden)\r\n",
        "          \r\n",
        "        # Global Pooling (stack different aggregations)\r\n",
        "        hidden = torch.cat([gmp(hidden, batch_index), \r\n",
        "                            gap(hidden, batch_index)], dim=1)\r\n",
        "\r\n",
        "        # Apply a final (linear) classifier.\r\n",
        "        out = self.out(hidden)\r\n",
        "\r\n",
        "        return out, hidden"
      ],
      "execution_count": 38,
      "outputs": []
    },
    {
      "cell_type": "code",
      "metadata": {
        "id": "2bjFR7NZq7bo"
      },
      "source": [
        "model1 = GCN()"
      ],
      "execution_count": 39,
      "outputs": []
    },
    {
      "cell_type": "code",
      "metadata": {
        "colab": {
          "base_uri": "https://localhost:8080/"
        },
        "id": "Okb4y0z9q7eW",
        "outputId": "28a6891d-ea22-4898-f8a6-96db1eb8b273"
      },
      "source": [
        "print(model)"
      ],
      "execution_count": 40,
      "outputs": [
        {
          "output_type": "stream",
          "text": [
            "GCN(\n",
            "  (initial_conv): GCNConv(9, 64)\n",
            "  (conv1): GCNConv(64, 64)\n",
            "  (conv2): GCNConv(64, 64)\n",
            "  (conv3): GCNConv(64, 64)\n",
            "  (out): Linear(in_features=128, out_features=1, bias=True)\n",
            ")\n"
          ],
          "name": "stdout"
        }
      ]
    },
    {
      "cell_type": "code",
      "metadata": {
        "colab": {
          "base_uri": "https://localhost:8080/"
        },
        "id": "XQGwHEt-q7g3",
        "outputId": "86944c87-5a46-4edf-ef08-e4998fb0c568"
      },
      "source": [
        "print(\"Number of parameters: \", sum(p.numel() for p in model.parameters()))"
      ],
      "execution_count": 41,
      "outputs": [
        {
          "output_type": "stream",
          "text": [
            "Number of parameters:  13249\n"
          ],
          "name": "stdout"
        }
      ]
    },
    {
      "cell_type": "code",
      "metadata": {
        "id": "huOvfyeXq7j4"
      },
      "source": [
        "#training\r\n",
        "from torch_geometric.data import DataLoader\r\n",
        "import warnings\r\n",
        "warnings.filterwarnings(\"ignore\")"
      ],
      "execution_count": 42,
      "outputs": []
    },
    {
      "cell_type": "code",
      "metadata": {
        "id": "r7YaHkx1q7nm"
      },
      "source": [
        "# Root mean squared error\r\n",
        "loss_fn = torch.nn.MSELoss()\r\n",
        "optimizer = torch.optim.Adam(model.parameters(), lr=0.0007)  "
      ],
      "execution_count": 43,
      "outputs": []
    },
    {
      "cell_type": "code",
      "metadata": {
        "id": "Gss27LF-q7qg"
      },
      "source": [
        "# Use GPU for training\r\n",
        "device = torch.device(\"cuda:0\" if torch.cuda.is_available() else \"cpu\")\r\n",
        "model = model.to(device)"
      ],
      "execution_count": 44,
      "outputs": []
    },
    {
      "cell_type": "code",
      "metadata": {
        "colab": {
          "base_uri": "https://localhost:8080/"
        },
        "id": "iHW7s7ZisNFa",
        "outputId": "fcbe0a12-0686-4130-96d1-84be5f677fcb"
      },
      "source": [
        "# Wrap data in a data loader\r\n",
        "data_size = len(data)\r\n",
        "NUM_GRAPHS_PER_BATCH = 64\r\n",
        "loader = DataLoader(data[:int(data_size * 0.8)], \r\n",
        "                    batch_size=NUM_GRAPHS_PER_BATCH, shuffle=True)\r\n",
        "test_loader = DataLoader(data[int(data_size * 0.8):], \r\n",
        "                         batch_size=NUM_GRAPHS_PER_BATCH, shuffle=True)\r\n",
        "\r\n",
        "def train(data):\r\n",
        "    for batch in loader:\r\n",
        "      # Use GPU\r\n",
        "      batch.to(device)  \r\n",
        "      # Reset gradients\r\n",
        "      optimizer.zero_grad() \r\n",
        "      # Passing the node features and the connection info\r\n",
        "      pred, embedding = model(batch.x.float(), batch.edge_index, batch.batch) \r\n",
        "      loss = torch.sqrt(loss_fn(pred, batch.y))       \r\n",
        "      loss.backward()  \r\n",
        "      # Update using the gradients\r\n",
        "      optimizer.step()   \r\n",
        "    return loss, embedding\r\n",
        "\r\n",
        "print(\"Starting training...\")\r\n",
        "losses = []\r\n",
        "for epoch in range(2000):\r\n",
        "    loss, h = train(data)\r\n",
        "    losses.append(loss)\r\n",
        "    if epoch % 100 == 0:\r\n",
        "      print(f\"Epoch {epoch} | Train Loss {loss}\")"
      ],
      "execution_count": 45,
      "outputs": [
        {
          "output_type": "stream",
          "text": [
            "Starting training...\n",
            "Epoch 0 | Train Loss 3.875809907913208\n",
            "Epoch 100 | Train Loss 1.203613519668579\n",
            "Epoch 200 | Train Loss 0.3978510797023773\n",
            "Epoch 300 | Train Loss 0.7228013873100281\n",
            "Epoch 400 | Train Loss 0.725314736366272\n",
            "Epoch 500 | Train Loss 0.3255899250507355\n",
            "Epoch 600 | Train Loss 0.4850230813026428\n",
            "Epoch 700 | Train Loss 0.47512418031692505\n",
            "Epoch 800 | Train Loss 0.6374808549880981\n",
            "Epoch 900 | Train Loss 0.3701724112033844\n",
            "Epoch 1000 | Train Loss 0.46569618582725525\n",
            "Epoch 1100 | Train Loss 0.38780438899993896\n",
            "Epoch 1200 | Train Loss 0.16896362602710724\n",
            "Epoch 1300 | Train Loss 0.21788644790649414\n",
            "Epoch 1400 | Train Loss 0.4037858545780182\n",
            "Epoch 1500 | Train Loss 0.34214577078819275\n",
            "Epoch 1600 | Train Loss 0.23197942972183228\n",
            "Epoch 1700 | Train Loss 0.11180534213781357\n",
            "Epoch 1800 | Train Loss 0.334319531917572\n",
            "Epoch 1900 | Train Loss 0.09651699662208557\n"
          ],
          "name": "stdout"
        }
      ]
    },
    {
      "cell_type": "code",
      "metadata": {
        "colab": {
          "base_uri": "https://localhost:8080/",
          "height": 404
        },
        "id": "awxcaxNCsNIs",
        "outputId": "3515099d-0c0c-45b4-9ef3-994e6b825928"
      },
      "source": [
        "import pandas as pd \r\n",
        "\r\n",
        "# Analyze the results for one batch\r\n",
        "test_batch = next(iter(test_loader))\r\n",
        "with torch.no_grad():\r\n",
        "    test_batch.to(device)\r\n",
        "    pred, embed = model(test_batch.x.float(), test_batch.edge_index, test_batch.batch) \r\n",
        "    df = pd.DataFrame()\r\n",
        "    df[\"y_real\"] = test_batch.y.tolist()\r\n",
        "    df[\"y_pred\"] = pred.tolist()\r\n",
        "df[\"y_real\"] = df[\"y_real\"].apply(lambda row: row[0])\r\n",
        "df[\"y_pred\"] = df[\"y_pred\"].apply(lambda row: row[0])\r\n",
        "df"
      ],
      "execution_count": 46,
      "outputs": [
        {
          "output_type": "execute_result",
          "data": {
            "text/html": [
              "<div>\n",
              "<style scoped>\n",
              "    .dataframe tbody tr th:only-of-type {\n",
              "        vertical-align: middle;\n",
              "    }\n",
              "\n",
              "    .dataframe tbody tr th {\n",
              "        vertical-align: top;\n",
              "    }\n",
              "\n",
              "    .dataframe thead th {\n",
              "        text-align: right;\n",
              "    }\n",
              "</style>\n",
              "<table border=\"1\" class=\"dataframe\">\n",
              "  <thead>\n",
              "    <tr style=\"text-align: right;\">\n",
              "      <th></th>\n",
              "      <th>y_real</th>\n",
              "      <th>y_pred</th>\n",
              "    </tr>\n",
              "  </thead>\n",
              "  <tbody>\n",
              "    <tr>\n",
              "      <th>0</th>\n",
              "      <td>0.380</td>\n",
              "      <td>-0.386723</td>\n",
              "    </tr>\n",
              "    <tr>\n",
              "      <th>1</th>\n",
              "      <td>-3.620</td>\n",
              "      <td>-2.556668</td>\n",
              "    </tr>\n",
              "    <tr>\n",
              "      <th>2</th>\n",
              "      <td>-4.173</td>\n",
              "      <td>-5.170082</td>\n",
              "    </tr>\n",
              "    <tr>\n",
              "      <th>3</th>\n",
              "      <td>-5.190</td>\n",
              "      <td>-3.285265</td>\n",
              "    </tr>\n",
              "    <tr>\n",
              "      <th>4</th>\n",
              "      <td>-2.600</td>\n",
              "      <td>-3.280472</td>\n",
              "    </tr>\n",
              "    <tr>\n",
              "      <th>...</th>\n",
              "      <td>...</td>\n",
              "      <td>...</td>\n",
              "    </tr>\n",
              "    <tr>\n",
              "      <th>59</th>\n",
              "      <td>-6.860</td>\n",
              "      <td>-6.035043</td>\n",
              "    </tr>\n",
              "    <tr>\n",
              "      <th>60</th>\n",
              "      <td>-3.401</td>\n",
              "      <td>-2.845305</td>\n",
              "    </tr>\n",
              "    <tr>\n",
              "      <th>61</th>\n",
              "      <td>-2.863</td>\n",
              "      <td>-2.749929</td>\n",
              "    </tr>\n",
              "    <tr>\n",
              "      <th>62</th>\n",
              "      <td>-3.630</td>\n",
              "      <td>-4.738658</td>\n",
              "    </tr>\n",
              "    <tr>\n",
              "      <th>63</th>\n",
              "      <td>-7.660</td>\n",
              "      <td>-8.526911</td>\n",
              "    </tr>\n",
              "  </tbody>\n",
              "</table>\n",
              "<p>64 rows × 2 columns</p>\n",
              "</div>"
            ],
            "text/plain": [
              "    y_real    y_pred\n",
              "0    0.380 -0.386723\n",
              "1   -3.620 -2.556668\n",
              "2   -4.173 -5.170082\n",
              "3   -5.190 -3.285265\n",
              "4   -2.600 -3.280472\n",
              "..     ...       ...\n",
              "59  -6.860 -6.035043\n",
              "60  -3.401 -2.845305\n",
              "61  -2.863 -2.749929\n",
              "62  -3.630 -4.738658\n",
              "63  -7.660 -8.526911\n",
              "\n",
              "[64 rows x 2 columns]"
            ]
          },
          "metadata": {
            "tags": []
          },
          "execution_count": 46
        }
      ]
    },
    {
      "cell_type": "code",
      "metadata": {
        "colab": {
          "base_uri": "https://localhost:8080/",
          "height": 301
        },
        "id": "swa9j0IVsNLb",
        "outputId": "8a0b09d1-4be8-46b3-864b-8fe3518e0b95"
      },
      "source": [
        "import seaborn as sns\r\n",
        "plt = sns.scatterplot(data=df, x=\"y_real\", y=\"y_pred\")\r\n",
        "plt.set(xlim=(-7, 2))\r\n",
        "plt.set(ylim=(-7, 2))\r\n",
        "plt"
      ],
      "execution_count": 48,
      "outputs": [
        {
          "output_type": "execute_result",
          "data": {
            "text/plain": [
              "<matplotlib.axes._subplots.AxesSubplot at 0x7f9472436a50>"
            ]
          },
          "metadata": {
            "tags": []
          },
          "execution_count": 48
        },
        {
          "output_type": "display_data",
          "data": {
            "image/png": "[encoded data removed]",
            "text/plain": [
              "<Figure size 432x288 with 1 Axes>"
            ]
          },
          "metadata": {
            "tags": [],
            "needs_background": "light"
          }
        }
      ]
    },
    {
      "cell_type": "code",
      "metadata": {
        "id": "-F8Nhvc7sNXB"
      },
      "source": [
        ""
      ],
      "execution_count": null,
      "outputs": []
    },
    {
      "cell_type": "code",
      "metadata": {
        "id": "q6Z2xfWcsNeR"
      },
      "source": [
        ""
      ],
      "execution_count": null,
      "outputs": []
    },
    {
      "cell_type": "code",
      "metadata": {
        "id": "dqSdsJctsNhE"
      },
      "source": [
        ""
      ],
      "execution_count": null,
      "outputs": []
    },
    {
      "cell_type": "code",
      "metadata": {
        "id": "XuyNxJmNsNla"
      },
      "source": [
        ""
      ],
      "execution_count": null,
      "outputs": []
    },
    {
      "cell_type": "code",
      "metadata": {
        "id": "PpH5Gh0wsNp7"
      },
      "source": [
        ""
      ],
      "execution_count": null,
      "outputs": []
    }
  ]
}